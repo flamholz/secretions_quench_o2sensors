{
 "cells": [
  {
   "cell_type": "code",
   "execution_count": null,
   "metadata": {},
   "outputs": [],
   "source": [
    "def make_diagram_panel(baseline_mean, baseline_std):\n",
    "    bm, bs = baseline_mean, baseline_std\n",
    "\n",
    "    # Plot mean +/- std for the PtTFPP channel of the dye by itself. \n",
    "    plt.axhspan(bm - bs, bm + bs, color=greys[1], alpha=0.7)\n",
    "    plt.axhline(bm, color=greys[2], lw=3, label='sensor alone')\n",
    "\n",
    "    # Example where there is spectral overlap between the dye and the chemical.\n",
    "    # Fluorescence should increase linearly with the concentration of the molecule\n",
    "    slope = 20 # AU / uM of chemical\n",
    "    concs = 500 / np.power(2, np.arange(0,6))\n",
    "    expected_fluor = slope * concs + bm\n",
    "\n",
    "    # Sample triplicate measurements from this curve. \n",
    "    triplicate_expectation = np.vstack([expected_fluor]*3)\n",
    "    triplicate_measurement = np.random.normal(triplicate_expectation, scale=baseline_std)\n",
    "    sim_measurement_df = pd.DataFrame(triplicate_measurement.T, columns='1,2,3'.split(','))\n",
    "    sim_measurement_df['conc'] = concs\n",
    "    long_sim_measurement_df = sim_measurement_df.melt(var_name='replicate', id_vars='conc')\n",
    "\n",
    "    sns.lineplot(data=long_sim_measurement_df, x='conc', y='value', marker='d', color=blues[0],\n",
    "                 label='spectral overlap')\n",
    "\n",
    "    # Example where quenching is the only effect.\n",
    "    # Modeled using Stern-Volmer eqn for intensity If = I0 / (1 + K_SV*[quencher]).\n",
    "    KSV = 5e-3 # fluorescence / uM\n",
    "    expected_fluor = bm / (1+KSV*concs)\n",
    "    triplicate_expectation = np.vstack([expected_fluor]*3)\n",
    "    triplicate_measurement = np.random.normal(triplicate_expectation, scale=baseline_std)\n",
    "    sim_measurement_df = pd.DataFrame(triplicate_measurement.T, columns='1,2,3'.split(','))\n",
    "    sim_measurement_df['conc'] = concs\n",
    "    long_sim_measurement_df = sim_measurement_df.melt(var_name='replicate', id_vars='conc')\n",
    "\n",
    "    sns.lineplot(data=long_sim_measurement_df, x='conc', y='value', marker='d',\n",
    "                 color=sns.xkcd_rgb['dusty red'],\n",
    "                 label='quenching')\n",
    "\n",
    "    # Example where quenching and spectral overlap are both in play. \n",
    "    expected_fluor = bm / (1+KSV*concs) + slope * concs\n",
    "    triplicate_expectation = np.vstack([expected_fluor]*3)\n",
    "    triplicate_measurement = np.random.normal(triplicate_expectation, scale=baseline_std)\n",
    "    sim_measurement_df = pd.DataFrame(triplicate_measurement.T, columns='1,2,3'.split(','))\n",
    "    sim_measurement_df['conc'] = concs\n",
    "    long_sim_measurement_df = sim_measurement_df.melt(var_name='replicate', id_vars='conc')\n",
    "\n",
    "    sns.lineplot(data=long_sim_measurement_df, x='conc', y='value', marker='d',\n",
    "                 color=sns.xkcd_rgb['dusty purple'],\n",
    "                 label='both')"
   ]
  }
 ],
 "metadata": {
  "kernelspec": {
   "display_name": "conda.base",
   "language": "python",
   "name": "conda.base"
  },
  "language_info": {
   "codemirror_mode": {
    "name": "ipython",
    "version": 3
   },
   "file_extension": ".py",
   "mimetype": "text/x-python",
   "name": "python",
   "nbconvert_exporter": "python",
   "pygments_lexer": "ipython3",
   "version": "3.8.5"
  }
 },
 "nbformat": 4,
 "nbformat_minor": 4
}
